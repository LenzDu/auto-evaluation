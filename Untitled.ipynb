{
 "cells": [
  {
   "cell_type": "code",
   "execution_count": 61,
   "metadata": {},
   "outputs": [
    {
     "name": "stdout",
     "output_type": "stream",
     "text": [
      "The autoreload extension is already loaded. To reload it, use:\n",
      "  %reload_ext autoreload\n"
     ]
    },
    {
     "data": {
      "text/html": [
       "<meta charset=\"UTF-8\">\n",
       "\n",
       "<style>\n",
       "</style>\n",
       "\n",
       "<div container auto-evaluation>\n",
       "    <div class=\"row headerrow highlight\">\n",
       "        <h1>Overview</h1>\n",
       "    </div>\n",
       "    <div> \n",
       "        100000\n",
       "    </div>\n",
       "</div>"
      ],
      "text/plain": [
       "<auto_evaluation.evaluation.BinaryClassEvaluator at 0x1a174d3a20>"
      ]
     },
     "execution_count": 61,
     "metadata": {},
     "output_type": "execute_result"
    }
   ],
   "source": [
    "%load_ext autoreload\n",
    "%autoreload 2\n",
    "import numpy as np\n",
    "from auto_evaluation.evaluation import BinaryClassEvaluator, RegressionEvaluator\n",
    "from sklearn.linear_model import LogisticRegression, LinearRegression\n",
    "\n",
    "sample_size = 100000\n",
    "np.random.seed(42)\n",
    "\n",
    "# classification\n",
    "y = np.random.choice([0, 1], sample_size, p = [0.7, 0.3])\n",
    "x = y + np.random.randn(sample_size)\n",
    "x = x.reshape(-1, 1)\n",
    "\n",
    "clf = LogisticRegression()\n",
    "clf.fit(x, y)\n",
    "yfit = clf.predict_proba(x)[:, 1]\n",
    "\n",
    "BinaryClassEvaluator(y, yfit)\n",
    "# print(e.segment())\n",
    "#e.report()\n",
    "#e.record(filename='test_record.txt')\n",
    "# e.p_r_curve()\n",
    "# e.roc_curve()\n",
    "# e.stacked_hist()\n",
    "# e.plot_confusion_matrix()"
   ]
  },
  {
   "cell_type": "code",
   "execution_count": 57,
   "metadata": {
    "scrolled": true
   },
   "outputs": [
    {
     "data": {
      "text/html": [
       "<meta charset=\"UTF-8\">\n",
       "\n",
       "<style>\n",
       "</style>\n",
       "\n",
       "<div container auto-evaluation>\n",
       "    <div class=\"row headerrow highlight\">\n",
       "        <h1>Overview</h1>\n",
       "    </div>\n",
       "    <div> \n",
       "        100000\n",
       "    </div>\n",
       "</div>"
      ],
      "text/plain": [
       "<auto_evaluation.evaluation.BinaryClassEvaluator at 0x1a1758fe10>"
      ]
     },
     "execution_count": 57,
     "metadata": {},
     "output_type": "execute_result"
    }
   ],
   "source": [
    "e"
   ]
  },
  {
   "cell_type": "code",
   "execution_count": 26,
   "metadata": {},
   "outputs": [],
   "source": [
    "import "
   ]
  },
  {
   "cell_type": "code",
   "execution_count": 30,
   "metadata": {},
   "outputs": [
    {
     "data": {
      "text/plain": [
       "True"
      ]
     },
     "execution_count": 30,
     "metadata": {},
     "output_type": "execute_result"
    }
   ],
   "source": []
  },
  {
   "cell_type": "code",
   "execution_count": null,
   "metadata": {
    "collapsed": true
   },
   "outputs": [],
   "source": []
  }
 ],
 "metadata": {
  "kernelspec": {
   "display_name": "Python 3",
   "language": "python",
   "name": "python3"
  },
  "language_info": {
   "codemirror_mode": {
    "name": "ipython",
    "version": 3
   },
   "file_extension": ".py",
   "mimetype": "text/x-python",
   "name": "python",
   "nbconvert_exporter": "python",
   "pygments_lexer": "ipython3",
   "version": "3.6.2"
  }
 },
 "nbformat": 4,
 "nbformat_minor": 2
}
